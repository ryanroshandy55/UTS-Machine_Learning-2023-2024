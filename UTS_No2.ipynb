{
  "nbformat": 4,
  "nbformat_minor": 0,
  "metadata": {
    "colab": {
      "provenance": [],
      "mount_file_id": "1En-bfI7-gCp2fF4RPfBq9TeHp4dBrlS6",
      "authorship_tag": "ABX9TyPg12JkbJ6jx2Tn0IA+yM5a",
      "include_colab_link": true
    },
    "kernelspec": {
      "name": "python3",
      "display_name": "Python 3"
    },
    "language_info": {
      "name": "python"
    }
  },
  "cells": [
    {
      "cell_type": "markdown",
      "metadata": {
        "id": "view-in-github",
        "colab_type": "text"
      },
      "source": [
        "<a href=\"https://colab.research.google.com/github/ryanroshandy55/UTS-Machine_Learning-2023-2024/blob/main/UTS_No2.ipynb\" target=\"_parent\"><img src=\"https://colab.research.google.com/assets/colab-badge.svg\" alt=\"Open In Colab\"/></a>"
      ]
    },
    {
      "cell_type": "markdown",
      "source": [
        "# Praproses Data"
      ],
      "metadata": {
        "id": "kOG91Z_6aZY6"
      }
    },
    {
      "cell_type": "code",
      "execution_count": 115,
      "metadata": {
        "id": "s9YZofvXaMkL"
      },
      "outputs": [],
      "source": [
        "# Importing libraries\n",
        "import numpy as np\n",
        "import pandas as pd\n",
        "\n",
        "from sklearn.preprocessing import MinMaxScaler\n",
        "from sklearn.preprocessing import StandardScaler\n",
        "from sklearn.impute import SimpleImputer\n",
        "\n",
        "from google.colab import files"
      ]
    },
    {
      "cell_type": "code",
      "source": [
        "csv_url = 'https://raw.githubusercontent.com/isnanmulia/lecture-datasets/main/mobileprice_modified.csv'\n",
        "names = ['battery_power', 'blue', 'clock_speed', 'dual_sim', 'fc', 'four_g','int_memory', 'm_dep', 'mobile_wt', 'n_cores', 'pc', 'px_height','px_width', 'ram', 'sc_h', 'sc_w', 'talk_time', 'three_g',\n",
        "       'touch_screen', 'wifi', 'price_range']\n",
        "dataset = pd.read_csv(csv_url, names=names)\n",
        "dataset_attr = dataset[['battery_power', 'blue', 'clock_speed', 'dual_sim', 'fc', 'four_g','int_memory', 'm_dep', 'mobile_wt', 'n_cores', 'pc', 'px_height','px_width', 'ram', 'sc_h', 'sc_w', 'talk_time', 'three_g',\n",
        "       'touch_screen', 'wifi']]\n",
        "print(dataset_attr.describe())\n",
        "dataset_attr.info()"
      ],
      "metadata": {
        "colab": {
          "base_uri": "https://localhost:8080/"
        },
        "id": "uI8y300xajCp",
        "outputId": "a64e54d5-8556-4c4c-d390-4e56935fd7e1"
      },
      "execution_count": 116,
      "outputs": [
        {
          "output_type": "stream",
          "name": "stdout",
          "text": [
            "       battery_power  blue clock_speed dual_sim    fc four_g int_memory m_dep  \\\n",
            "count           1991  2001        2001     2001  2001   2001       1991  2001   \n",
            "unique          1094     3          27        3    21      3         64    11   \n",
            "top             1872     0         0.5        1     0      1         27   0.1   \n",
            "freq               6  1010         413     1019   474   1043         46   320   \n",
            "\n",
            "       mobile_wt n_cores    pc px_height px_width   ram  sc_h  sc_w talk_time  \\\n",
            "count       1991    2001  2001      2001     2001  1991  2001  2001      2001   \n",
            "unique       122       9    22      1138     1110  1559    16    20        20   \n",
            "top          182       4    10       347     1247  1229    17     1         7   \n",
            "freq          28     274   122         7        7     4   193   210       124   \n",
            "\n",
            "       three_g touch_screen  wifi  \n",
            "count     2001         2001  2001  \n",
            "unique       3            3     3  \n",
            "top          1            1     1  \n",
            "freq      1523         1006  1014  \n",
            "<class 'pandas.core.frame.DataFrame'>\n",
            "RangeIndex: 2001 entries, 0 to 2000\n",
            "Data columns (total 20 columns):\n",
            " #   Column         Non-Null Count  Dtype \n",
            "---  ------         --------------  ----- \n",
            " 0   battery_power  1991 non-null   object\n",
            " 1   blue           2001 non-null   object\n",
            " 2   clock_speed    2001 non-null   object\n",
            " 3   dual_sim       2001 non-null   object\n",
            " 4   fc             2001 non-null   object\n",
            " 5   four_g         2001 non-null   object\n",
            " 6   int_memory     1991 non-null   object\n",
            " 7   m_dep          2001 non-null   object\n",
            " 8   mobile_wt      1991 non-null   object\n",
            " 9   n_cores        2001 non-null   object\n",
            " 10  pc             2001 non-null   object\n",
            " 11  px_height      2001 non-null   object\n",
            " 12  px_width       2001 non-null   object\n",
            " 13  ram            1991 non-null   object\n",
            " 14  sc_h           2001 non-null   object\n",
            " 15  sc_w           2001 non-null   object\n",
            " 16  talk_time      2001 non-null   object\n",
            " 17  three_g        2001 non-null   object\n",
            " 18  touch_screen   2001 non-null   object\n",
            " 19  wifi           2001 non-null   object\n",
            "dtypes: object(20)\n",
            "memory usage: 312.8+ KB\n"
          ]
        }
      ]
    },
    {
      "cell_type": "code",
      "source": [
        "url = 'https://t2m.io/c3guBDpu'\n",
        "\n",
        "data_missing = pd.read_csv(url)\n",
        "print(data_missing)\n",
        "data_missing.isna().sum()"
      ],
      "metadata": {
        "colab": {
          "base_uri": "https://localhost:8080/"
        },
        "id": "NTTpy1ZFiPnX",
        "outputId": "2a5a4e70-59af-43d5-8cdc-272b1f132365"
      },
      "execution_count": 117,
      "outputs": [
        {
          "output_type": "stream",
          "name": "stdout",
          "text": [
            "      battery_power  blue  clock_speed  dual_sim  fc  four_g  int_memory  \\\n",
            "0             842.0     0          2.2         0   1       0         7.0   \n",
            "1            1021.0     1          0.5         1   0       1        53.0   \n",
            "2             563.0     1          0.5         1   2       1        41.0   \n",
            "3             615.0     1          2.5         0   0       0        10.0   \n",
            "4            1821.0     1          1.2         0  13       1        44.0   \n",
            "...             ...   ...          ...       ...  ..     ...         ...   \n",
            "1995          794.0     1          0.5         1   0       1         2.0   \n",
            "1996         1965.0     1          2.6         1   0       0        39.0   \n",
            "1997         1911.0     0          0.9         1   1       1        36.0   \n",
            "1998         1512.0     0          0.9         0   4       1        46.0   \n",
            "1999          510.0     1          2.0         1   5       1        45.0   \n",
            "\n",
            "      m_dep  mobile_wt  n_cores  ...  px_height  px_width     ram  sc_h  sc_w  \\\n",
            "0       0.6      188.0        2  ...         20       756     NaN     9     7   \n",
            "1       0.7      136.0        3  ...        905      1988  2631.0    17     3   \n",
            "2       0.9      145.0        5  ...       1263      1716  2603.0    11     2   \n",
            "3       0.8      131.0        6  ...       1216      1786  2769.0    16     8   \n",
            "4       0.6      141.0        2  ...       1208      1212  1411.0     8     2   \n",
            "...     ...        ...      ...  ...        ...       ...     ...   ...   ...   \n",
            "1995    0.8      106.0        6  ...       1222      1890   668.0    13     4   \n",
            "1996    0.2      187.0        4  ...        915      1965  2032.0    11    10   \n",
            "1997    0.7      108.0        8  ...        868      1632  3057.0     9     1   \n",
            "1998    0.1      145.0        5  ...        336       670   869.0    18    10   \n",
            "1999    0.9      168.0        6  ...        483       754  3919.0    19     4   \n",
            "\n",
            "      talk_time  three_g  touch_screen  wifi  price_range  \n",
            "0            19        0             0     1            1  \n",
            "1             7        1             1     0            2  \n",
            "2             9        1             1     0            2  \n",
            "3            11        1             0     0            2  \n",
            "4            15        1             1     0            1  \n",
            "...         ...      ...           ...   ...          ...  \n",
            "1995         19        1             1     0            0  \n",
            "1996         16        1             1     1            2  \n",
            "1997          5        1             1     0            3  \n",
            "1998         19        1             1     1            0  \n",
            "1999          2        1             1     1            3  \n",
            "\n",
            "[2000 rows x 21 columns]\n"
          ]
        },
        {
          "output_type": "execute_result",
          "data": {
            "text/plain": [
              "battery_power    10\n",
              "blue              0\n",
              "clock_speed       0\n",
              "dual_sim          0\n",
              "fc                0\n",
              "four_g            0\n",
              "int_memory       10\n",
              "m_dep             0\n",
              "mobile_wt        10\n",
              "n_cores           0\n",
              "pc                0\n",
              "px_height         0\n",
              "px_width          0\n",
              "ram              10\n",
              "sc_h              0\n",
              "sc_w              0\n",
              "talk_time         0\n",
              "three_g           0\n",
              "touch_screen      0\n",
              "wifi              0\n",
              "price_range       0\n",
              "dtype: int64"
            ]
          },
          "metadata": {},
          "execution_count": 117
        }
      ]
    },
    {
      "cell_type": "code",
      "source": [
        "data_missing.info()"
      ],
      "metadata": {
        "colab": {
          "base_uri": "https://localhost:8080/"
        },
        "id": "JGe4osJJjE2_",
        "outputId": "0a02cd40-f5ed-44d2-f76f-b2affa4bcd25"
      },
      "execution_count": 118,
      "outputs": [
        {
          "output_type": "stream",
          "name": "stdout",
          "text": [
            "<class 'pandas.core.frame.DataFrame'>\n",
            "RangeIndex: 2000 entries, 0 to 1999\n",
            "Data columns (total 21 columns):\n",
            " #   Column         Non-Null Count  Dtype  \n",
            "---  ------         --------------  -----  \n",
            " 0   battery_power  1990 non-null   float64\n",
            " 1   blue           2000 non-null   int64  \n",
            " 2   clock_speed    2000 non-null   float64\n",
            " 3   dual_sim       2000 non-null   int64  \n",
            " 4   fc             2000 non-null   int64  \n",
            " 5   four_g         2000 non-null   int64  \n",
            " 6   int_memory     1990 non-null   float64\n",
            " 7   m_dep          2000 non-null   float64\n",
            " 8   mobile_wt      1990 non-null   float64\n",
            " 9   n_cores        2000 non-null   int64  \n",
            " 10  pc             2000 non-null   int64  \n",
            " 11  px_height      2000 non-null   int64  \n",
            " 12  px_width       2000 non-null   int64  \n",
            " 13  ram            1990 non-null   float64\n",
            " 14  sc_h           2000 non-null   int64  \n",
            " 15  sc_w           2000 non-null   int64  \n",
            " 16  talk_time      2000 non-null   int64  \n",
            " 17  three_g        2000 non-null   int64  \n",
            " 18  touch_screen   2000 non-null   int64  \n",
            " 19  wifi           2000 non-null   int64  \n",
            " 20  price_range    2000 non-null   int64  \n",
            "dtypes: float64(6), int64(15)\n",
            "memory usage: 328.2 KB\n"
          ]
        }
      ]
    },
    {
      "cell_type": "code",
      "source": [
        "# Handling missing values\n",
        "imputer = SimpleImputer(fill_value=np.nan, strategy='median')\n",
        "X = imputer.fit_transform(data_missing)\n",
        "X = pd.DataFrame(X, columns=data_missing.columns)\n",
        "print(X)"
      ],
      "metadata": {
        "colab": {
          "base_uri": "https://localhost:8080/"
        },
        "id": "o0E6npE_aq86",
        "outputId": "c08b5f9d-6001-48c6-a50c-36a0bf1f52a2"
      },
      "execution_count": 119,
      "outputs": [
        {
          "output_type": "stream",
          "name": "stdout",
          "text": [
            "      battery_power  blue  clock_speed  dual_sim    fc  four_g  int_memory  \\\n",
            "0             842.0   0.0          2.2       0.0   1.0     0.0         7.0   \n",
            "1            1021.0   1.0          0.5       1.0   0.0     1.0        53.0   \n",
            "2             563.0   1.0          0.5       1.0   2.0     1.0        41.0   \n",
            "3             615.0   1.0          2.5       0.0   0.0     0.0        10.0   \n",
            "4            1821.0   1.0          1.2       0.0  13.0     1.0        44.0   \n",
            "...             ...   ...          ...       ...   ...     ...         ...   \n",
            "1995          794.0   1.0          0.5       1.0   0.0     1.0         2.0   \n",
            "1996         1965.0   1.0          2.6       1.0   0.0     0.0        39.0   \n",
            "1997         1911.0   0.0          0.9       1.0   1.0     1.0        36.0   \n",
            "1998         1512.0   0.0          0.9       0.0   4.0     1.0        46.0   \n",
            "1999          510.0   1.0          2.0       1.0   5.0     1.0        45.0   \n",
            "\n",
            "      m_dep  mobile_wt  n_cores  ...  px_height  px_width     ram  sc_h  sc_w  \\\n",
            "0       0.6      188.0      2.0  ...       20.0     756.0  2146.5   9.0   7.0   \n",
            "1       0.7      136.0      3.0  ...      905.0    1988.0  2631.0  17.0   3.0   \n",
            "2       0.9      145.0      5.0  ...     1263.0    1716.0  2603.0  11.0   2.0   \n",
            "3       0.8      131.0      6.0  ...     1216.0    1786.0  2769.0  16.0   8.0   \n",
            "4       0.6      141.0      2.0  ...     1208.0    1212.0  1411.0   8.0   2.0   \n",
            "...     ...        ...      ...  ...        ...       ...     ...   ...   ...   \n",
            "1995    0.8      106.0      6.0  ...     1222.0    1890.0   668.0  13.0   4.0   \n",
            "1996    0.2      187.0      4.0  ...      915.0    1965.0  2032.0  11.0  10.0   \n",
            "1997    0.7      108.0      8.0  ...      868.0    1632.0  3057.0   9.0   1.0   \n",
            "1998    0.1      145.0      5.0  ...      336.0     670.0   869.0  18.0  10.0   \n",
            "1999    0.9      168.0      6.0  ...      483.0     754.0  3919.0  19.0   4.0   \n",
            "\n",
            "      talk_time  three_g  touch_screen  wifi  price_range  \n",
            "0          19.0      0.0           0.0   1.0          1.0  \n",
            "1           7.0      1.0           1.0   0.0          2.0  \n",
            "2           9.0      1.0           1.0   0.0          2.0  \n",
            "3          11.0      1.0           0.0   0.0          2.0  \n",
            "4          15.0      1.0           1.0   0.0          1.0  \n",
            "...         ...      ...           ...   ...          ...  \n",
            "1995       19.0      1.0           1.0   0.0          0.0  \n",
            "1996       16.0      1.0           1.0   1.0          2.0  \n",
            "1997        5.0      1.0           1.0   0.0          3.0  \n",
            "1998       19.0      1.0           1.0   1.0          0.0  \n",
            "1999        2.0      1.0           1.0   1.0          3.0  \n",
            "\n",
            "[2000 rows x 21 columns]\n"
          ]
        }
      ]
    },
    {
      "cell_type": "code",
      "source": [
        "fixed_data = X\n",
        "# X.info()"
      ],
      "metadata": {
        "id": "8Q3Gp4dDbltJ"
      },
      "execution_count": 120,
      "outputs": []
    },
    {
      "cell_type": "code",
      "source": [
        "# Split data into x and y\n",
        "X = fixed_data.drop(columns=['price_range'])\n",
        "X.head()\n",
        "\n",
        "Y = fixed_data['price_range'].values"
      ],
      "metadata": {
        "id": "ckZ5hpcVlTd-"
      },
      "execution_count": 121,
      "outputs": []
    },
    {
      "cell_type": "code",
      "source": [
        "# Melakukan stadarisasi data agar data konsisten\n",
        "minmax = MinMaxScaler(feature_range=(0, 1))\n",
        "print(minmax.fit(X))\n",
        "X = minmax.transform(X)\n",
        "X"
      ],
      "metadata": {
        "colab": {
          "base_uri": "https://localhost:8080/"
        },
        "id": "FvVE6oJDa78B",
        "outputId": "4ee7964d-53d9-466c-b187-8479fb7db5a7"
      },
      "execution_count": 122,
      "outputs": [
        {
          "output_type": "stream",
          "name": "stdout",
          "text": [
            "MinMaxScaler()\n"
          ]
        },
        {
          "output_type": "execute_result",
          "data": {
            "text/plain": [
              "array([[0.22778891, 0.        , 0.68      , ..., 0.        , 0.        ,\n",
              "        1.        ],\n",
              "       [0.34736139, 1.        , 0.        , ..., 1.        , 1.        ,\n",
              "        0.        ],\n",
              "       [0.04141617, 1.        , 0.        , ..., 1.        , 1.        ,\n",
              "        0.        ],\n",
              "       ...,\n",
              "       [0.94188377, 0.        , 0.16      , ..., 1.        , 1.        ,\n",
              "        0.        ],\n",
              "       [0.6753507 , 0.        , 0.16      , ..., 1.        , 1.        ,\n",
              "        1.        ],\n",
              "       [0.00601202, 1.        , 0.6       , ..., 1.        , 1.        ,\n",
              "        1.        ]])"
            ]
          },
          "metadata": {},
          "execution_count": 122
        }
      ]
    },
    {
      "cell_type": "code",
      "source": [
        "print(data_missing)"
      ],
      "metadata": {
        "colab": {
          "base_uri": "https://localhost:8080/"
        },
        "id": "w69HOnIrbTzp",
        "outputId": "6a7a745e-a1e2-416b-e3ef-310e125631a3"
      },
      "execution_count": 129,
      "outputs": [
        {
          "output_type": "stream",
          "name": "stdout",
          "text": [
            "      battery_power  blue  clock_speed  dual_sim  fc  four_g  int_memory  \\\n",
            "0             842.0     0          2.2         0   1       0         7.0   \n",
            "1            1021.0     1          0.5         1   0       1        53.0   \n",
            "2             563.0     1          0.5         1   2       1        41.0   \n",
            "3             615.0     1          2.5         0   0       0        10.0   \n",
            "4            1821.0     1          1.2         0  13       1        44.0   \n",
            "...             ...   ...          ...       ...  ..     ...         ...   \n",
            "1995          794.0     1          0.5         1   0       1         2.0   \n",
            "1996         1965.0     1          2.6         1   0       0        39.0   \n",
            "1997         1911.0     0          0.9         1   1       1        36.0   \n",
            "1998         1512.0     0          0.9         0   4       1        46.0   \n",
            "1999          510.0     1          2.0         1   5       1        45.0   \n",
            "\n",
            "      m_dep  mobile_wt  n_cores  ...  px_height  px_width     ram  sc_h  sc_w  \\\n",
            "0       0.6      188.0        2  ...         20       756     NaN     9     7   \n",
            "1       0.7      136.0        3  ...        905      1988  2631.0    17     3   \n",
            "2       0.9      145.0        5  ...       1263      1716  2603.0    11     2   \n",
            "3       0.8      131.0        6  ...       1216      1786  2769.0    16     8   \n",
            "4       0.6      141.0        2  ...       1208      1212  1411.0     8     2   \n",
            "...     ...        ...      ...  ...        ...       ...     ...   ...   ...   \n",
            "1995    0.8      106.0        6  ...       1222      1890   668.0    13     4   \n",
            "1996    0.2      187.0        4  ...        915      1965  2032.0    11    10   \n",
            "1997    0.7      108.0        8  ...        868      1632  3057.0     9     1   \n",
            "1998    0.1      145.0        5  ...        336       670   869.0    18    10   \n",
            "1999    0.9      168.0        6  ...        483       754  3919.0    19     4   \n",
            "\n",
            "      talk_time  three_g  touch_screen  wifi  price_range  \n",
            "0            19        0             0     1            1  \n",
            "1             7        1             1     0            2  \n",
            "2             9        1             1     0            2  \n",
            "3            11        1             0     0            2  \n",
            "4            15        1             1     0            1  \n",
            "...         ...      ...           ...   ...          ...  \n",
            "1995         19        1             1     0            0  \n",
            "1996         16        1             1     1            2  \n",
            "1997          5        1             1     0            3  \n",
            "1998         19        1             1     1            0  \n",
            "1999          2        1             1     1            3  \n",
            "\n",
            "[2000 rows x 21 columns]\n"
          ]
        }
      ]
    },
    {
      "cell_type": "code",
      "source": [
        "print(fixed_data)"
      ],
      "metadata": {
        "colab": {
          "base_uri": "https://localhost:8080/"
        },
        "id": "cV8jW0ygmrw-",
        "outputId": "d1fdd55e-d5a5-4a98-b76e-d5a096a7f2d1"
      },
      "execution_count": 132,
      "outputs": [
        {
          "output_type": "stream",
          "name": "stdout",
          "text": [
            "      battery_power  blue  clock_speed  dual_sim    fc  four_g  int_memory  \\\n",
            "0             842.0   0.0          2.2       0.0   1.0     0.0         7.0   \n",
            "1            1021.0   1.0          0.5       1.0   0.0     1.0        53.0   \n",
            "2             563.0   1.0          0.5       1.0   2.0     1.0        41.0   \n",
            "3             615.0   1.0          2.5       0.0   0.0     0.0        10.0   \n",
            "4            1821.0   1.0          1.2       0.0  13.0     1.0        44.0   \n",
            "...             ...   ...          ...       ...   ...     ...         ...   \n",
            "1995          794.0   1.0          0.5       1.0   0.0     1.0         2.0   \n",
            "1996         1965.0   1.0          2.6       1.0   0.0     0.0        39.0   \n",
            "1997         1911.0   0.0          0.9       1.0   1.0     1.0        36.0   \n",
            "1998         1512.0   0.0          0.9       0.0   4.0     1.0        46.0   \n",
            "1999          510.0   1.0          2.0       1.0   5.0     1.0        45.0   \n",
            "\n",
            "      m_dep  mobile_wt  n_cores  ...  px_height  px_width     ram  sc_h  sc_w  \\\n",
            "0       0.6      188.0      2.0  ...       20.0     756.0  2146.5   9.0   7.0   \n",
            "1       0.7      136.0      3.0  ...      905.0    1988.0  2631.0  17.0   3.0   \n",
            "2       0.9      145.0      5.0  ...     1263.0    1716.0  2603.0  11.0   2.0   \n",
            "3       0.8      131.0      6.0  ...     1216.0    1786.0  2769.0  16.0   8.0   \n",
            "4       0.6      141.0      2.0  ...     1208.0    1212.0  1411.0   8.0   2.0   \n",
            "...     ...        ...      ...  ...        ...       ...     ...   ...   ...   \n",
            "1995    0.8      106.0      6.0  ...     1222.0    1890.0   668.0  13.0   4.0   \n",
            "1996    0.2      187.0      4.0  ...      915.0    1965.0  2032.0  11.0  10.0   \n",
            "1997    0.7      108.0      8.0  ...      868.0    1632.0  3057.0   9.0   1.0   \n",
            "1998    0.1      145.0      5.0  ...      336.0     670.0   869.0  18.0  10.0   \n",
            "1999    0.9      168.0      6.0  ...      483.0     754.0  3919.0  19.0   4.0   \n",
            "\n",
            "      talk_time  three_g  touch_screen  wifi  price_range  \n",
            "0          19.0      0.0           0.0   1.0          1.0  \n",
            "1           7.0      1.0           1.0   0.0          2.0  \n",
            "2           9.0      1.0           1.0   0.0          2.0  \n",
            "3          11.0      1.0           0.0   0.0          2.0  \n",
            "4          15.0      1.0           1.0   0.0          1.0  \n",
            "...         ...      ...           ...   ...          ...  \n",
            "1995       19.0      1.0           1.0   0.0          0.0  \n",
            "1996       16.0      1.0           1.0   1.0          2.0  \n",
            "1997        5.0      1.0           1.0   0.0          3.0  \n",
            "1998       19.0      1.0           1.0   1.0          0.0  \n",
            "1999        2.0      1.0           1.0   1.0          3.0  \n",
            "\n",
            "[2000 rows x 21 columns]\n"
          ]
        }
      ]
    },
    {
      "cell_type": "code",
      "source": [
        "print(X)"
      ],
      "metadata": {
        "colab": {
          "base_uri": "https://localhost:8080/"
        },
        "id": "JQcAiGBhbsf5",
        "outputId": "562ce36a-310a-4308-e051-01f25e575508"
      },
      "execution_count": 127,
      "outputs": [
        {
          "output_type": "stream",
          "name": "stdout",
          "text": [
            "[[0.22778891 0.         0.68       ... 0.         0.         1.        ]\n",
            " [0.34736139 1.         0.         ... 1.         1.         0.        ]\n",
            " [0.04141617 1.         0.         ... 1.         1.         0.        ]\n",
            " ...\n",
            " [0.94188377 0.         0.16       ... 1.         1.         0.        ]\n",
            " [0.6753507  0.         0.16       ... 1.         1.         1.        ]\n",
            " [0.00601202 1.         0.6        ... 1.         1.         1.        ]]\n"
          ]
        }
      ]
    }
  ]
}